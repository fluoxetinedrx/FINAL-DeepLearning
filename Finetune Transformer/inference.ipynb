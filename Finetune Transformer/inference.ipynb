{
 "cells": [
  {
   "cell_type": "code",
   "execution_count": 17,
   "metadata": {},
   "outputs": [],
   "source": [
    "import torch\n",
    "from transformers import AutoTokenizer, AutoModelForSequenceClassification\n",
    "from sklearn.preprocessing import MultiLabelBinarizer\n",
    "import numpy as np\n",
    "import pandas as pd"
   ]
  },
  {
   "cell_type": "code",
   "execution_count": 18,
   "metadata": {},
   "outputs": [],
   "source": [
    "# Load mô hình và tokenizer\n",
    "model = AutoModelForSequenceClassification.from_pretrained(\"./bert_finetuned\")\n",
    "tokenizer = AutoTokenizer.from_pretrained(\"./bert_finetuned\")"
   ]
  },
  {
   "cell_type": "code",
   "execution_count": 19,
   "metadata": {},
   "outputs": [],
   "source": [
    "# Load MultiLabelBinarizer để giải mã nhãn\n",
    "mlb = MultiLabelBinarizer()\n",
    "mlb.classes_ = np.array(['fiction', 'romance', 'young adult', 'fantasy', 'contemporary'])"
   ]
  },
  {
   "cell_type": "code",
   "execution_count": 20,
   "metadata": {},
   "outputs": [],
   "source": [
    "# Hàm inference\n",
    "def predict_tags(descriptions, threshold=0.5):\n",
    "    \"\"\"\n",
    "    Dự đoán nhãn cho một hoặc nhiều đoạn mô tả.\n",
    "    \n",
    "    Args:\n",
    "        descriptions (Union[str, List[str]]): Một đoạn mô tả hoặc danh sách các mô tả.\n",
    "        threshold (float): Ngưỡng dự đoán cho các nhãn.\n",
    "        \n",
    "    Returns:\n",
    "        List[List[str]]: Danh sách các nhãn dự đoán cho mỗi mô tả.\n",
    "    \"\"\"\n",
    "    if isinstance(descriptions, str):\n",
    "        descriptions = [descriptions]\n",
    "    \n",
    "    # Tokenize mô tả\n",
    "    inputs = tokenizer(descriptions, truncation=True, padding=True, max_length=128, return_tensors=\"pt\")\n",
    "    \n",
    "    # Dự đoán logits\n",
    "    model.eval()\n",
    "    with torch.no_grad():\n",
    "        logits = model(**inputs).logits\n",
    "    \n",
    "    # Áp dụng sigmoid để tính xác suất\n",
    "    probs = torch.sigmoid(logits).numpy()\n",
    "    \n",
    "    # Lấy nhãn dựa trên ngưỡng\n",
    "    predicted_labels = [\n",
    "        [mlb.classes_[i] for i, prob in enumerate(prob_vector) if prob > threshold]\n",
    "        for prob_vector in probs\n",
    "    ]\n",
    "    \n",
    "    return predicted_labels"
   ]
  },
  {
   "cell_type": "code",
   "execution_count": 21,
   "metadata": {},
   "outputs": [],
   "source": [
    "# Đọc dữ liệu test từ file CSV\n",
    "test_data = pd.read_csv(\"../Data/Train_and_Test_dataset/test.csv\")"
   ]
  },
  {
   "cell_type": "code",
   "execution_count": 22,
   "metadata": {},
   "outputs": [
    {
     "name": "stdout",
     "output_type": "stream",
     "text": [
      "Correct Predictions:\n",
      "                                           description  \\\n",
      "64   Sometimes, you don't need romanceSir Brynn of ...   \n",
      "106  Two boys  a slow learner stuck in the body of ...   \n",
      "179  Charlotte Ramsey is the new girl again. After ...   \n",
      "\n",
      "                               genres                        Predicted Tags  \n",
      "64                    romance,fantasy                    {fantasy, romance}  \n",
      "106  young adult,fiction,contemporary  {contemporary, fiction, young adult}  \n",
      "179  fiction,young adult,contemporary  {contemporary, fiction, young adult}  \n",
      "\n",
      "Incorrect Predictions:\n",
      "                                         description  \\\n",
      "0  I can see ghosts. I can talk to ghosts. And, i...   \n",
      "1  Conspiracy thrillers have tackled Da Vinci, At...   \n",
      "\n",
      "                                genres  \\\n",
      "0  young adult,fantasy,romance,fiction   \n",
      "1                      fiction,fantasy   \n",
      "\n",
      "                                  Predicted Tags  \n",
      "0  {fantasy, romance, young adult, contemporary}  \n",
      "1                         {romance, young adult}  \n"
     ]
    }
   ],
   "source": [
    "# Danh sách lưu mẫu\n",
    "correct_samples = []\n",
    "correct_predictions = []\n",
    "incorrect_samples = []\n",
    "incorrect_predictions = []\n",
    "\n",
    "for i, row in test_data.iterrows():\n",
    "    # Lấy thông tin mô tả và nhãn thực tế\n",
    "    description = row[\"description\"]\n",
    "    true_labels = set(row[\"genres\"].split(\",\"))\n",
    "    \n",
    "    # Dự đoán\n",
    "    predicted_labels = set(predict_tags(description, threshold=0.5)[0])\n",
    "    \n",
    "    # Phân loại đúng/sai\n",
    "    if true_labels == predicted_labels:\n",
    "        if len(correct_samples) < 3:  # Chỉ lưu tối đa 3 mẫu đúng\n",
    "            correct_samples.append(row)\n",
    "            correct_predictions.append(predicted_labels)\n",
    "    else:\n",
    "        if len(incorrect_samples) < 2:  # Chỉ lưu tối đa 2 mẫu sai\n",
    "            incorrect_samples.append(row)\n",
    "            incorrect_predictions.append(predicted_labels)\n",
    "    \n",
    "    # Dừng nếu đủ 5 mẫu\n",
    "    if len(correct_samples) == 3 and len(incorrect_samples) == 2:\n",
    "        break\n",
    "\n",
    "if correct_samples or incorrect_samples:\n",
    "    correct_df = pd.DataFrame(correct_samples)\n",
    "    correct_df[\"Predicted Tags\"] = correct_predictions\n",
    "    \n",
    "    incorrect_df = pd.DataFrame(incorrect_samples)\n",
    "    incorrect_df[\"Predicted Tags\"] = incorrect_predictions\n",
    "\n",
    "    print(\"Correct Predictions:\")\n",
    "    print(correct_df[[\"description\", \"genres\", \"Predicted Tags\"]])\n",
    "    \n",
    "    print(\"\\nIncorrect Predictions:\")\n",
    "    print(incorrect_df[[\"description\", \"genres\", \"Predicted Tags\"]])"
   ]
  }
 ],
 "metadata": {
  "kernelspec": {
   "display_name": "base",
   "language": "python",
   "name": "python3"
  },
  "language_info": {
   "codemirror_mode": {
    "name": "ipython",
    "version": 3
   },
   "file_extension": ".py",
   "mimetype": "text/x-python",
   "name": "python",
   "nbconvert_exporter": "python",
   "pygments_lexer": "ipython3",
   "version": "3.11.4"
  }
 },
 "nbformat": 4,
 "nbformat_minor": 2
}

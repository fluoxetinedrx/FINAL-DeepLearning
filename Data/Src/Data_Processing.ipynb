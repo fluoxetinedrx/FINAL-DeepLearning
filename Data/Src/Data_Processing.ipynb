{
 "cells": [
  {
   "cell_type": "code",
   "execution_count": 8,
   "metadata": {
    "id": "dqt-SpLMwOlG"
   },
   "outputs": [],
   "source": [
    "import pandas as pd\n",
    "import string\n",
    "from sklearn.feature_extraction.text import ENGLISH_STOP_WORDS\n",
    "from nltk.stem import WordNetLemmatizer\n",
    "from sklearn.preprocessing import MultiLabelBinarizer\n",
    "from sklearn.feature_extraction.text import TfidfVectorizer\n",
    "from imblearn.over_sampling import SMOTE\n",
    "from sklearn.model_selection import train_test_split\n",
    "import gensim\n",
    "from gensim.models import Word2Vec\n",
    "from nltk.tokenize import word_tokenize\n",
    "import string\n",
    "import ast\n",
    "from collections import Counter\n",
    "import re\n",
    "import numpy as np"
   ]
  },
  {
   "cell_type": "code",
   "execution_count": 9,
   "metadata": {
    "colab": {
     "base_uri": "https://localhost:8080/",
     "height": 580
    },
    "id": "hk3sHtc1wOlK",
    "outputId": "e4444cb3-73f6-473f-deaf-76fd014f0ac5"
   },
   "outputs": [
    {
     "data": {
      "text/html": [
       "<div>\n",
       "<style scoped>\n",
       "    .dataframe tbody tr th:only-of-type {\n",
       "        vertical-align: middle;\n",
       "    }\n",
       "\n",
       "    .dataframe tbody tr th {\n",
       "        vertical-align: top;\n",
       "    }\n",
       "\n",
       "    .dataframe thead th {\n",
       "        text-align: right;\n",
       "    }\n",
       "</style>\n",
       "<table border=\"1\" class=\"dataframe\">\n",
       "  <thead>\n",
       "    <tr style=\"text-align: right;\">\n",
       "      <th></th>\n",
       "      <th>title</th>\n",
       "      <th>author</th>\n",
       "      <th>description</th>\n",
       "      <th>genres</th>\n",
       "    </tr>\n",
       "  </thead>\n",
       "  <tbody>\n",
       "    <tr>\n",
       "      <th>0</th>\n",
       "      <td>The Hunger Games</td>\n",
       "      <td>Suzanne Collins</td>\n",
       "      <td>WINNING MEANS FAME AND FORTUNE.LOSING MEANS CE...</td>\n",
       "      <td>['Young Adult', 'Fiction', 'Dystopia', 'Fantas...</td>\n",
       "    </tr>\n",
       "    <tr>\n",
       "      <th>1</th>\n",
       "      <td>Harry Potter and the Order of the Phoenix</td>\n",
       "      <td>J.K. Rowling, Mary GrandPr (Illustrator)</td>\n",
       "      <td>There is a door at the end of a silent corrido...</td>\n",
       "      <td>['Fantasy', 'Young Adult', 'Fiction', 'Magic',...</td>\n",
       "    </tr>\n",
       "    <tr>\n",
       "      <th>2</th>\n",
       "      <td>To Kill a Mockingbird</td>\n",
       "      <td>Harper Lee</td>\n",
       "      <td>The unforgettable novel of a childhood in a sl...</td>\n",
       "      <td>['Classics', 'Fiction', 'Historical Fiction', ...</td>\n",
       "    </tr>\n",
       "    <tr>\n",
       "      <th>3</th>\n",
       "      <td>Pride and Prejudice</td>\n",
       "      <td>Jane Austen, Anna Quindlen (Introduction)</td>\n",
       "      <td>Alternate cover edition of ISBN 9780679783268S...</td>\n",
       "      <td>['Classics', 'Fiction', 'Romance', 'Historical...</td>\n",
       "    </tr>\n",
       "    <tr>\n",
       "      <th>4</th>\n",
       "      <td>Twilight</td>\n",
       "      <td>Stephenie Meyer</td>\n",
       "      <td>About three things I was absolutely positive.F...</td>\n",
       "      <td>['Young Adult', 'Fantasy', 'Romance', 'Vampire...</td>\n",
       "    </tr>\n",
       "    <tr>\n",
       "      <th>...</th>\n",
       "      <td>...</td>\n",
       "      <td>...</td>\n",
       "      <td>...</td>\n",
       "      <td>...</td>\n",
       "    </tr>\n",
       "    <tr>\n",
       "      <th>46972</th>\n",
       "      <td>Fractured</td>\n",
       "      <td>Cheri Schmidt (Goodreads Author)</td>\n",
       "      <td>The Fateful Trilogy continues with Fractured. ...</td>\n",
       "      <td>['Vampires', 'Paranormal', 'Young Adult', 'Rom...</td>\n",
       "    </tr>\n",
       "    <tr>\n",
       "      <th>46973</th>\n",
       "      <td>Anasazi</td>\n",
       "      <td>Emma Michaels</td>\n",
       "      <td>'Anasazi', sequel to 'The Thirteenth Chime' by...</td>\n",
       "      <td>['Mystery', 'Young Adult']</td>\n",
       "    </tr>\n",
       "    <tr>\n",
       "      <th>46974</th>\n",
       "      <td>Marked</td>\n",
       "      <td>Kim Richardson (Goodreads Author)</td>\n",
       "      <td>--READERS FAVORITE AWARDS WINNER 2011--Sixteen...</td>\n",
       "      <td>['Fantasy', 'Young Adult', 'Paranormal', 'Ange...</td>\n",
       "    </tr>\n",
       "    <tr>\n",
       "      <th>46975</th>\n",
       "      <td>Wayward Son</td>\n",
       "      <td>Tom Pollack (Goodreads Author), John Loftus (G...</td>\n",
       "      <td>A POWERFUL TREMOR UNEARTHS AN ANCIENT SECRETBu...</td>\n",
       "      <td>['Fiction', 'Mystery', 'Historical Fiction', '...</td>\n",
       "    </tr>\n",
       "    <tr>\n",
       "      <th>46976</th>\n",
       "      <td>Daughter of Helaman</td>\n",
       "      <td>Misty Moncur (Goodreads Author)</td>\n",
       "      <td>Fighting in Helaman's army is Keturah's deepes...</td>\n",
       "      <td>['Lds Fiction', 'Historical Fiction', 'Young A...</td>\n",
       "    </tr>\n",
       "  </tbody>\n",
       "</table>\n",
       "<p>46977 rows × 4 columns</p>\n",
       "</div>"
      ],
      "text/plain": [
       "                                           title  \\\n",
       "0                               The Hunger Games   \n",
       "1      Harry Potter and the Order of the Phoenix   \n",
       "2                          To Kill a Mockingbird   \n",
       "3                            Pride and Prejudice   \n",
       "4                                       Twilight   \n",
       "...                                          ...   \n",
       "46972                                  Fractured   \n",
       "46973                                    Anasazi   \n",
       "46974                                     Marked   \n",
       "46975                                Wayward Son   \n",
       "46976                        Daughter of Helaman   \n",
       "\n",
       "                                                  author  \\\n",
       "0                                        Suzanne Collins   \n",
       "1               J.K. Rowling, Mary GrandPr (Illustrator)   \n",
       "2                                             Harper Lee   \n",
       "3              Jane Austen, Anna Quindlen (Introduction)   \n",
       "4                                        Stephenie Meyer   \n",
       "...                                                  ...   \n",
       "46972                   Cheri Schmidt (Goodreads Author)   \n",
       "46973                                      Emma Michaels   \n",
       "46974                  Kim Richardson (Goodreads Author)   \n",
       "46975  Tom Pollack (Goodreads Author), John Loftus (G...   \n",
       "46976                    Misty Moncur (Goodreads Author)   \n",
       "\n",
       "                                             description  \\\n",
       "0      WINNING MEANS FAME AND FORTUNE.LOSING MEANS CE...   \n",
       "1      There is a door at the end of a silent corrido...   \n",
       "2      The unforgettable novel of a childhood in a sl...   \n",
       "3      Alternate cover edition of ISBN 9780679783268S...   \n",
       "4      About three things I was absolutely positive.F...   \n",
       "...                                                  ...   \n",
       "46972  The Fateful Trilogy continues with Fractured. ...   \n",
       "46973  'Anasazi', sequel to 'The Thirteenth Chime' by...   \n",
       "46974  --READERS FAVORITE AWARDS WINNER 2011--Sixteen...   \n",
       "46975  A POWERFUL TREMOR UNEARTHS AN ANCIENT SECRETBu...   \n",
       "46976  Fighting in Helaman's army is Keturah's deepes...   \n",
       "\n",
       "                                                  genres  \n",
       "0      ['Young Adult', 'Fiction', 'Dystopia', 'Fantas...  \n",
       "1      ['Fantasy', 'Young Adult', 'Fiction', 'Magic',...  \n",
       "2      ['Classics', 'Fiction', 'Historical Fiction', ...  \n",
       "3      ['Classics', 'Fiction', 'Romance', 'Historical...  \n",
       "4      ['Young Adult', 'Fantasy', 'Romance', 'Vampire...  \n",
       "...                                                  ...  \n",
       "46972  ['Vampires', 'Paranormal', 'Young Adult', 'Rom...  \n",
       "46973                         ['Mystery', 'Young Adult']  \n",
       "46974  ['Fantasy', 'Young Adult', 'Paranormal', 'Ange...  \n",
       "46975  ['Fiction', 'Mystery', 'Historical Fiction', '...  \n",
       "46976  ['Lds Fiction', 'Historical Fiction', 'Young A...  \n",
       "\n",
       "[46977 rows x 4 columns]"
      ]
     },
     "execution_count": 9,
     "metadata": {},
     "output_type": "execute_result"
    }
   ],
   "source": [
    "df = pd.read_csv(r\"F:\\Final DL\\FINAL-DeepLearning\\Data\\Data\\final_data.csv\")\n",
    "df"
   ]
  },
  {
   "cell_type": "markdown",
   "metadata": {
    "id": "gskT0kg9wOlM"
   },
   "source": [
    "### Gộp và xử lý các cột title, author, description"
   ]
  },
  {
   "cell_type": "code",
   "execution_count": 10,
   "metadata": {
    "id": "u7B5RXEIwOlN"
   },
   "outputs": [],
   "source": [
    "df['text'] = df['title'] + ' ' + df['author'] + ' ' + df['description']\n",
    "lemmatizer = WordNetLemmatizer()\n",
    "\n",
    "# Hàm tiền xử lý văn bản\n",
    "def preprocess_text(text):\n",
    "    # Chuyển thành chữ thường\n",
    "    text = text.lower()\n",
    "    # Loại bỏ ký tự đặc biệt\n",
    "    text = ''.join([char for char in text if char not in string.punctuation])\n",
    "    # Tokenization và loại bỏ stopwords\n",
    "    words = text.split()\n",
    "    words = [word for word in words if word not in ENGLISH_STOP_WORDS]\n",
    "    # Lemmatization\n",
    "    words = [lemmatizer.lemmatize(word) for word in words]\n",
    "    return ' '.join(words)\n",
    "\n",
    "# Áp dụng tiền xử lý cho các cột 'title', 'author', 'description'\n",
    "df['text']= df['text'].astype(str)\n",
    "df['text'] = df['text'].apply(preprocess_text)\n"
   ]
  },
  {
   "cell_type": "code",
   "execution_count": 11,
   "metadata": {
    "colab": {
     "base_uri": "https://localhost:8080/",
     "height": 458
    },
    "id": "BzdRd8z-wOlO",
    "outputId": "ef2a7291-8a00-4be8-d909-798cee289d1d"
   },
   "outputs": [
    {
     "data": {
      "text/plain": [
       "0        hunger game suzanne collins winning mean fame ...\n",
       "1        harry potter order phoenix jk rowling mary gra...\n",
       "2        kill mockingbird harper lee unforgettable nove...\n",
       "3        pride prejudice jane austen anna quindlen intr...\n",
       "4        twilight stephenie meyer thing absolutely posi...\n",
       "                               ...                        \n",
       "46972    fractured cheri schmidt goodreads author fatef...\n",
       "46973    anasazi emma michael anasazi sequel thirteenth...\n",
       "46974    marked kim richardson goodreads author reader ...\n",
       "46975    wayward son tom pollack goodreads author john ...\n",
       "46976    daughter helaman misty moncur goodreads author...\n",
       "Name: text, Length: 46977, dtype: object"
      ]
     },
     "execution_count": 11,
     "metadata": {},
     "output_type": "execute_result"
    }
   ],
   "source": [
    "df['text']"
   ]
  },
  {
   "cell_type": "markdown",
   "metadata": {
    "id": "E0r_wZXxwOlP"
   },
   "source": [
    "### Embedding cột text"
   ]
  },
  {
   "cell_type": "code",
   "execution_count": 12,
   "metadata": {
    "colab": {
     "base_uri": "https://localhost:8080/"
    },
    "id": "XKHJzysGwOlP",
    "outputId": "60afd1ab-a80c-4edd-9e91-ec526332a878"
   },
   "outputs": [],
   "source": [
    "model = Word2Vec(sentences=df['text'], vector_size=200, window=5, min_count=1, sg=0)\n",
    "\n",
    "# Get word embeddings for each description\n",
    "def get_embedding(text_tokens):\n",
    "    # Get embeddings for each word in the description and average them\n",
    "    embeddings = [model.wv[word] for word in text_tokens if word in model.wv]\n",
    "    if embeddings:\n",
    "        return sum(embeddings) / len(embeddings)\n",
    "    else:\n",
    "        return [0] * model.vector_size  # Return a zero vector if no words are in the model\n",
    "\n",
    "# Apply to create embedding column\n",
    "df['embedding'] = df['text'].apply(get_embedding)"
   ]
  },
  {
   "cell_type": "markdown",
   "metadata": {
    "id": "lcKGhUO5wOlQ"
   },
   "source": [
    "### Tiền xử lý nhãn sách"
   ]
  },
  {
   "cell_type": "code",
   "execution_count": 13,
   "metadata": {
    "id": "USb3XCgBwOlQ"
   },
   "outputs": [],
   "source": [
    "df['genres'] = df['genres'].apply(ast.literal_eval)\n"
   ]
  },
  {
   "cell_type": "code",
   "execution_count": 14,
   "metadata": {
    "colab": {
     "base_uri": "https://localhost:8080/"
    },
    "id": "lw-0wuKxzHTe",
    "outputId": "78e29fab-d1b2-4548-d6c1-07487a2bed85"
   },
   "outputs": [
    {
     "name": "stdout",
     "output_type": "stream",
     "text": [
      "Total number of genres: 982\n",
      "                      Genre  Count\n",
      "1                   Fiction  31282\n",
      "5                   Romance  15397\n",
      "3                   Fantasy  14933\n",
      "0               Young Adult  11787\n",
      "41             Contemporary  10477\n",
      "..                      ...    ...\n",
      "861                Cryptids      1\n",
      "857        Geoffrey Chaucer      1\n",
      "849  Electrical Engineering      1\n",
      "837                 Namibia      1\n",
      "981                  Guinea      1\n",
      "\n",
      "[982 rows x 2 columns]\n"
     ]
    }
   ],
   "source": [
    "all_genres = [genre for genres_list in df['genres'] for genre in genres_list]\n",
    "genre_counts = Counter(all_genres)\n",
    "genre_counts_df = pd.DataFrame(genre_counts.items(), columns=['Genre', 'Count'])\n",
    "total_genres = len(genre_counts)\n",
    "genre_counts_df = genre_counts_df.sort_values(by='Count', ascending=False)\n",
    "\n",
    "print(f'Total number of genres: {total_genres}')\n",
    "print(genre_counts_df)"
   ]
  },
  {
   "cell_type": "code",
   "execution_count": 15,
   "metadata": {
    "colab": {
     "base_uri": "https://localhost:8080/"
    },
    "id": "ND4iufYkzHpB",
    "outputId": "e1886e78-1b14-4cd2-8cba-841fa8f29754"
   },
   "outputs": [
    {
     "data": {
      "application/vnd.jupyter.widget-view+json": {
       "model_id": "619195c1b57a47e58d190466c12b773d",
       "version_major": 2,
       "version_minor": 0
      },
      "text/plain": [
       "Downloading:   0%|          | 0.00/232k [00:00<?, ?B/s]"
      ]
     },
     "metadata": {},
     "output_type": "display_data"
    },
    {
     "name": "stderr",
     "output_type": "stream",
     "text": [
      "c:\\Users\\Dell\\anaconda3\\lib\\site-packages\\huggingface_hub\\file_download.py:123: UserWarning: `huggingface_hub` cache-system uses symlinks by default to efficiently store duplicated files but your machine does not support them in C:\\Users\\Dell\\.cache\\huggingface\\hub. Caching files will still work but in a degraded version that might require more space on your disk. This warning can be disabled by setting the `HF_HUB_DISABLE_SYMLINKS_WARNING` environment variable. For more details, see https://huggingface.co/docs/huggingface_hub/how-to-cache#limitations.\n",
      "To support symlinks on Windows, you either need to activate Developer Mode or to run Python as an administrator. In order to see activate developer mode, see this article: https://docs.microsoft.com/en-us/windows/apps/get-started/enable-your-device-for-development\n",
      "  warnings.warn(message)\n"
     ]
    },
    {
     "data": {
      "application/vnd.jupyter.widget-view+json": {
       "model_id": "ebbc77a3c4254835919ad72201dc6d19",
       "version_major": 2,
       "version_minor": 0
      },
      "text/plain": [
       "Downloading:   0%|          | 0.00/48.0 [00:00<?, ?B/s]"
      ]
     },
     "metadata": {},
     "output_type": "display_data"
    },
    {
     "data": {
      "application/vnd.jupyter.widget-view+json": {
       "model_id": "c3da5eac3e044375a5728fbf729b6acd",
       "version_major": 2,
       "version_minor": 0
      },
      "text/plain": [
       "Downloading:   0%|          | 0.00/570 [00:00<?, ?B/s]"
      ]
     },
     "metadata": {},
     "output_type": "display_data"
    },
    {
     "data": {
      "application/vnd.jupyter.widget-view+json": {
       "model_id": "a3f349bdac0e459bab1bb47b22e16457",
       "version_major": 2,
       "version_minor": 0
      },
      "text/plain": [
       "Downloading:   0%|          | 0.00/440M [00:00<?, ?B/s]"
      ]
     },
     "metadata": {},
     "output_type": "display_data"
    },
    {
     "name": "stderr",
     "output_type": "stream",
     "text": [
      "Some weights of the model checkpoint at bert-base-uncased were not used when initializing BertModel: ['cls.predictions.transform.dense.bias', 'cls.predictions.transform.LayerNorm.bias', 'cls.predictions.transform.dense.weight', 'cls.predictions.bias', 'cls.seq_relationship.bias', 'cls.predictions.transform.LayerNorm.weight', 'cls.seq_relationship.weight', 'cls.predictions.decoder.weight']\n",
      "- This IS expected if you are initializing BertModel from the checkpoint of a model trained on another task or with another architecture (e.g. initializing a BertForSequenceClassification model from a BertForPreTraining model).\n",
      "- This IS NOT expected if you are initializing BertModel from the checkpoint of a model that you expect to be exactly identical (initializing a BertForSequenceClassification model from a BertForSequenceClassification model).\n",
      "c:\\Users\\Dell\\anaconda3\\lib\\site-packages\\sklearn\\cluster\\_kmeans.py:870: FutureWarning: The default value of `n_init` will change from 10 to 'auto' in 1.4. Set the value of `n_init` explicitly to suppress the warning\n",
      "  warnings.warn(\n"
     ]
    },
    {
     "name": "stdout",
     "output_type": "stream",
     "text": [
      "{0: ['Cyberpunk', 'Atheism', 'Romanticism', 'Esoterica', 'Futurism', 'Anarchism', 'Evangelism', 'Theosophy', 'Anti Intellectualism'], 1: ['Romance', 'Contemporary', 'Nonfiction', 'Thriller', 'War', 'Novella', 'Post Apocalyptic', 'Medieval', 'Espionage', 'Gothic', 'Holocaust', 'Modern', 'Lesbian', 'Disability', 'Society', 'Seinen', 'Terrorism', 'Anti Racist', 'Poverty', 'International', 'Witchcraft', 'Divorce', 'Firefighters', 'Punk', 'Utopia', 'Journal', 'Prostitution', 'Romanovs', 'Deception', 'Lenin', 'Vaccines', 'Graffiti'], 2: ['German Literature', 'French Literature', 'Spanish Literature', 'Classic Literature', 'Japanese Literature', 'Indonesian Literature', 'Asian Literature', 'Russian Literature', 'Indian Literature', 'Scandinavian Literature', 'Italian Literature', 'Irish Literature', 'Portuguese Literature', 'Polish Literature', 'Turkish Literature', 'Swedish Literature', 'English Literature', 'Canadian Literature', 'Dutch Literature', 'Romanian Literature', 'Finnish Literature', 'Czech Literature', 'Egyptian Literature', 'African Literature', 'European Literature', 'Chinese Literature', 'Bulgarian Literature', 'Serbian Literature', 'Hungarian Literature', 'Albanian Literature', 'Ukrainian Literature', 'Epic Poetry', 'Multicultural Literature', 'Black Literature', 'International Literature'], 3: ['Dc Comics', 'Batman', 'Superman', 'Spider Man', 'Victor Frankenstein', 'Wonder Woman', 'Led Zeppelin'], 4: ['Historical', 'Anthologies', 'Collections', 'Americana', 'Folklore', 'Maritime', 'Dinosaurs', 'Cults', 'Wildlife', 'Plants', 'Dictionaries', 'Conservation', 'Museums', 'Atlases', 'Cultural Heritage', ''], 5: ['Childrens', 'Chick Lit', 'Gay', 'Storytime', 'Menage', 'Clean Romance', 'Buisness', 'How To', 'Nordic Noir', 'Hard Boiled', 'Yaoi', 'Boys Love', 'Magick', 'New Weird', 'School Stories', '40k', 'Queer Lit', 'Josei', 'Comics Bd', 'Post Colonial', 'Love Inspired', 'Manhwa', 'Harem', 'Nerd', 'Aspergers', 'Weird West', 'Esp', 'Plus Size', 'Cross Dressing', 'Pre K', 'Butch Femme', 'Low Fantasy', 'Omegaverse', 'Fat Acceptance', 'Hqn', 'Far Right', 'Peak Oil', 'Punx', 'Cryptids'], 6: ['American', 'Canada', 'Russia', 'Italy', 'Germany', 'Scotland', 'Ireland', 'Spain', 'Sweden', 'Portugal', 'Iran', 'Brazil', 'Romania', 'Pakistan', 'United States', 'Denmark', 'Hungary', 'Bulgaria', 'Algeria', 'Green', 'Ethiopia', 'Libya', 'Tasmania', 'Liberia', 'Alexandria', 'Eritrea', 'Kazakhstan', 'Cameroon'], 7: ['Shapeshifters', 'Harlequin', 'Cthulhu Mythos', 'Harlequin Romance', 'Harlequin Heartwarming', 'Harlequin Desire', 'Harlequin Nocturne', 'Harlequin Blaze', 'Harlequin Historical', 'Pre Raphaelite', 'Harlequin Teen', 'Harlequin Presents', 'Geoffrey Chaucer'], 8: ['World War II', 'Civil War', 'World War I', 'American Civil War', 'American Revolutionary War', 'Spanish Civil War', 'Civil War Eastern Theater', 'Civil War History', 'Battle Of Gettysburg', 'Battle Of Britain', 'English Civil War'], 9: ['Fiction', 'Novels', 'Literature', 'Biography', 'Memoir', 'Poetry', 'LGBT', 'Autobiography', 'Reference', 'Travel', 'Music', 'Feminism', 'Race', 'Film', 'Buddhism', 'Musicians', 'Catholic', 'Photography', 'Church', 'Tv', 'Aviation', 'Transgender', 'Social Issues', 'Wilderness', 'Railways', 'Bicycles', 'Pornography'], 10: ['Urban Fantasy', 'Mystery Thriller', 'Paranormal Romance', 'Realistic Fiction', 'Military Fiction', 'Erotic Romance', 'Epic Fantasy', 'Magical Realism', 'Space Opera', 'Murder Mystery', 'True Crime', 'Cozy Mystery', 'Dark Fantasy', 'Historical Mystery', 'Psychological Thriller', 'Sports Romance', 'Animal Fiction', 'Spy Thriller', 'Legal Thriller', 'Military Romance', 'Love Story', 'Biblical Fiction', 'Paranormal Mystery', 'Time Travel Romance', 'Category Romance', 'Paranormal Urban Fantasy', 'Golden Age Mystery', 'Erotic Horror', 'Love Inspired Historical', 'Gothic Horror', 'Slash Fiction', 'Futuristic Romance', 'Erotic Paranormal Romance', 'Supernatural Romance', 'Gay Erotica', 'Love Inspired Suspense'], 11: ['History', 'Philosophy', 'Drama', 'Politics', 'Psychology', 'Comedy', 'Sports', 'Sociology', 'Economics', 'Education', 'Anthropology', 'Journalism', 'Physics', 'Medicine', 'Finance', 'Mathematics', 'Football', 'Astronomy', 'Law', 'Baseball', 'Archaeology', 'Linguistics', 'Hockey', 'Architecture', 'Art Design', 'Engineering', 'Basketball', 'Geography', 'Soccer', 'Agriculture', 'Chemistry', 'Geology', 'Humanities', 'International Development', 'Geometry', 'Earth Sciences', 'Classical Music', 'Algebra', 'Electrical Engineering'], 12: ['Classics', 'Crime', 'Comics', 'School', 'Spirituality', 'Mythology', 'Roman', 'Art', 'Business', 'Unfinished', 'College', 'Cultural', 'Theatre', 'Writing', 'Medical', 'Environment', 'Marriage', 'Gender', 'Urban', 'Academic', 'Evolution', 'Language', 'Judaism', 'Design', 'Criticism', 'Research', 'Games', 'Teaching', 'Motorcycle', 'Brain', 'Pulp', 'Illness', 'Gardening', 'Culinary', 'Hinduism', 'Skepticism', 'Scripture', 'Software', 'Genetics', 'Bisexual', 'Logic', 'Cycling', 'Transport', 'Disease', 'Knitting', 'Nursing', 'Adolescence', 'Canon', 'Academics', 'Recreation', 'Jewellery'], 13: ['Young Adult Fantasy', 'Young Adult Contemporary', 'Young Adult Romance', 'Young Adult Paranormal', 'New Adult Romance', 'Young Adult Historical Fiction', 'Young Adult Science Fiction'], 14: ['Middle Grade', 'Christian', 'High Fantasy', 'Self Help', 'High School', 'Romantic Suspense', 'Time Travel', 'Westerns', 'Nobel Prize', 'New York', '21st Century', 'Boarding School', 'Arthurian', 'Mermaids', '2nd Grade', 'Road Trip', 'Fostering', '1st Grade', 'Grad School', 'Princesses', 'Dragonlance', 'Near Future', 'Virtual Reality', 'Edwardian', 'Sex Work', 'Quilting', 'Singularity', 'Sword and Planet', 'World Of Darkness', 'Tarot', 'Oral History', 'Read For College', 'Traditional Regency', 'Foster Children', 'NSFW', 'Cocktails', 'Usability', 'Street Art', 'Back To School', 'Babylon 5', 'Foster Parents'], 15: ['Personal Development', 'BDSM', 'Mental Health', 'Mental Illness', 'Political Science', 'Social Justice', 'Social Science', 'Art History', 'Computer Science', 'Counselling', 'Personal Finance', 'Human Development', 'Art and Photography', 'International Relations', 'Social Work', 'Mountaineering', 'Horse Racing', 'Health Care', 'Urban Planning', 'Visual Art', 'Food History', 'Numerology', 'Egyptology', 'Taxation', 'Librarianship', 'Gastronomy', 'Information Science', 'Money Management', 'Food Preservation', 'Human Resources', 'Website Design', 'Museology', 'Figure Skating'], 16: ['Greek Mythology', 'Native Americans', 'American Revolution', 'French Revolution', 'Judaica', 'Nursery Rhymes', 'Native American History', 'Russian Revolution', 'Divination', 'Roman Britain', 'Global Warming', 'Mary Shelley', 'Traditional Chinese Medicine'], 17: ['Religion', 'Christianity', 'Islam', 'Christian Living', 'Lds', 'Discipleship', 'New Testament', 'Old Testament', 'Baha I', 'Muslimah', 'Ecclesiology'], 18: ['Alternate History', 'Popular Science', 'Comix', 'Video Games', 'Forgotten Realms', 'Webcomic', 'Internet', 'Fandom', 'Game Design', 'Alternate Universe', 'Social Media'], 19: ['20th Century', '19th Century', '18th Century', '17th Century', '16th Century', 'Tudor Period', '15th Century', '12th Century', '14th Century', '13th Century', 'Anglo Saxon', '11th Century', 'Elizabethan Period', '10th Century'], 20: ['Read For School', 'Bande Dessine', 'Slice Of Life', 'Foodie', 'Gay For You', 'Reverse Harem', 'Food and Drink', 'Rock N Roll', 'Splatterpunk', 'Komik', 'Anthropomorphic', 'Plantagenet', 'Genderqueer', 'Growth Mindset', 'Thelema', 'Loveswept', 'Choose Your Own Adventure', 'Homeschool', 'Strippers', 'Intersex', 'Swashbuckling', 'Frugal', 'Mail Order Brides', 'Booze', 'Stand Up', 'Colouring Books', 'Polyamorous', 'Fantasy Of Manners'], 21: ['Young Adult', 'New Adult', 'Coming Of Age', 'Young Readers', 'M M Young Adult'], 22: ['Contemporary Romance', 'Historical Romance', 'Christian Romance', 'Regency Romance', 'Fantasy Romance', 'Historical Fantasy', 'Christian Historical Fiction', 'Western Romance', 'Christian Fantasy', 'Medieval Romance', 'Lesbian Romance', 'Southern Gothic', 'Heroic Fantasy', 'Interracial Romance', 'Western Historical Romance', 'Gothic Romance', 'Planetary Romance', 'Victorian Romance', 'Georgian Romance', 'Viking Romance', 'Erotic Historical Romance'], 23: ['Prehistory', 'Microhistory', 'Palaeontology', 'Cryptozoology', 'Ornithology'], 24: ['Sword and Sorcery', 'Wicca', 'Climate Change', 'Astrology', 'Alchemy', 'Ethnography', 'Horticulture', 'Cartography', 'Fire Services', 'Naturopathy', 'Amateur Sleuth', 'Motorcycling', 'Library Science', 'Emergency Services', 'Woodwork', 'Paramedics'], 25: ['Fantasy', 'Mystery', 'Magic', 'Humor', 'Horror', 'Family', 'Abuse', 'Dark', 'Amazon', 'Love', 'Witches', 'Demons', 'Dragons', 'Faith', 'Ghosts', 'Angels', 'Aliens', 'Death', 'Fae', 'Survival', 'Kids', 'Zombies', 'Food', 'Christmas', 'Noir', 'Fairies', 'Holiday', 'Romantic', 'Diary', 'Money', 'Wolves', 'Monsters', 'Gods', 'Prayer', 'Elves', 'Tragedy', 'Zen', 'God', 'Surreal', 'The World', 'Emotion', 'Dying Earth', 'Wizards', 'Counting', 'Walking', 'Mine', 'Geek', 'Wine', 'Goddess', 'Apple', 'Mira', 'Herbs', 'Goth', 'Beer', 'Tea', 'Alcohol', 'Fat', 'Lie', 'Drinking', 'Words', 'Go', 'Stories', 'Yeti'], 26: ['Adventure', 'Paranormal', 'Suspense', 'Supernatural', 'Teen', 'Action', 'Detective', 'Inspirational', 'Queer', 'Space', 'Epic', 'Plays', 'Regency', 'Southern', 'Apocalyptic', 'Victorian', 'Jewish', 'Cats', 'Futuristic', 'Parenting', 'Ancient', 'Marvel', 'Occult', 'Own', 'Halloween', 'Gaming', 'Adoption', 'Danish', 'Fighters', 'Fashion', 'Crafts', 'Social', 'Georgian', 'Biblical', 'Cartoon', 'Activism', 'Prehistoric', 'Cinderella', 'Academia', 'Marathi', 'Guides', 'Drawing', 'Rabbits', 'Climbing', 'Vegetarian', 'Number', 'Yuri', 'Coding', 'Class', 'Reportage', 'Musicals', 'Favorites', 'Puzzles', 'Stuart', 'Jokes', 'Silhouette', 'Racing', 'Google', 'Moroccan', 'Sewing', 'Rus', 'Belief', 'Brewing', 'Web', 'Norman'], 27: ['Northern Africa', 'Western Africa', 'Eastern Africa', 'Central Africa'], 28: ['American History', 'Military History', 'European History', 'World History', 'Ancient History', 'Natural History', 'History Of Science', 'Medieval History', 'Russian History', 'Church History', 'Naval History', 'Japanese History', 'History and Politics', 'Soviet History', 'Spanish History', 'History Of Medicine'], 29: ['Science', 'Theology', 'Nature', 'Health', 'Relationships', 'Theory', 'Biology', 'Technology', 'Management', 'Cooking', 'Sexuality', 'Productivity', 'Entrepreneurship', 'Neuroscience', 'Ecology', 'Communication', 'Sequential Art', 'Sustainability', 'Nutrition', 'Science Nature', 'Fitness', 'Artificial Intelligence', 'Programming', 'Psychiatry', 'Chess', 'Food Writing', 'Jazz', 'Journaling', 'Labor', 'Cuisine', 'Algorithms', 'Banking', 'Climate Change Fiction', 'Creation Science', 'Pseudoscience', 'Fat Studies', 'Intelligent Design'], 30: ['African American', 'Latin American', 'Latin American Literature', 'African American Literature', 'Bizarro Fiction', 'African American Romance', 'Latin American History'], 31: ['British Literature', 'Erotica', 'Essays', 'New Age', 'Modern Classics', 'Childrens Classics', 'American Fiction', 'Lds Fiction', 'Cult Classics', 'Naval Historical Fiction', 'American Classics', 'Christian Contemporary Fiction'], 32: ['Metaphysics', 'Literary Criticism', 'Psychoanalysis', 'Gender Studies', 'Womens Studies', 'Eastern Philosophy', 'Cultural Studies', 'Classical Studies', 'Gender and Sexuality', 'Urban Studies', 'Queer Studies', 'Semiotics', 'Feminist Theory', 'Disability Studies', 'Social Change'], 33: ['Adult', 'Vampires', 'Juvenile', 'Animals', 'Werewolves', 'Leadership', 'Dogs', 'Horses', 'Pirates', 'Police', 'Female Authors', 'Presidents', 'Textbooks', 'Outdoors', 'Birds', 'Computers', 'Government', 'Robots', 'Technical', 'Cities', 'Teachers', 'Us Presidents', 'Doctors', 'Banks', 'Comedian', 'Soldiers', 'Cars', 'Trains', 'Maps', 'Aeroplanes', 'Planets', 'Students', 'Pilots', 'Helicopters', 'Field Guides', 'Warriors', 'Aircraft', 'Professors', 'Muslims', 'Buses'], 34: ['Royal Air Force', 'London Underground'], 35: ['M M Romance', 'M F Romance', 'M M F', 'M F M', 'M M Contemporary', 'M M Fantasy', 'M M M', 'M M Paranormal', 'M M Sports Romance', 'M M Mystery'], 36: ['Dystopia'], 37: ['Star Wars', 'Doctor Who', 'Star Trek', 'Buffy The Vampire Slayer', 'Star Trek The Next Generation', 'Star Trek Deep Space Nine', 'Star Trek Voyager', 'Star Trek Original Series'], 38: ['Audiobook', 'Book Club', 'Retellings', 'Cookbooks', 'Travelogue', 'Music Biography', 'Guidebook'], 39: ['Short Stories', 'Short Story Collection'], 40: ['The United States Of America', 'Republic Of The Congo', 'Ivory Coast', 'Sierra Leone', 'Sao Tome and Principe'], 41: ['Science Fiction', 'Science Fiction Fantasy', 'Science Fiction Romance', 'Hard Science Fiction', 'Military Science Fiction', 'Sci Fi Fantasy', 'Lovecraftian', 'M M Historical Romance', 'M M Science Fiction'], 42: ['Graphic Novels', 'Biography Memoir', 'Graphic Novels Comics', 'Manga', 'Comic Book', 'Picture Books', 'Comics Manga', 'Shojo', 'Shonen', 'Anime', 'Light Novel', 'Comic Strips', 'Graphic Novels Manga', 'Comic Fantasy', 'Shounen Ai', 'Manga Romance', 'Gamebooks', 'Graphic Novels Comics Manga'], 43: ['Superheroes', 'Pop Culture', 'Amish', 'Mysticism', 'Conspiracy Theories', 'Paganism', 'Mormonism', 'Vegan', 'Diets', 'Quantum Mechanics', 'Taoism', 'Asexual', 'Counter Culture', 'Polyamory', 'Hackers', 'Polygamy', 'Urbanism', 'Alternative Medicine', 'Islamism', 'Hip Hop', 'Nazi Party', 'Spiritualism', 'Satanism', 'Airships', 'Social Movements', 'Vegetarianism', 'Fundamentalism'], 44: ['Steampunk', 'Dungeons and Dragons', 'Role Playing Games', 'World Of Warcraft', 'Warcraft', 'Mmorpg'], 45: ['Martial Arts', 'Mixed Martial Arts'], 46: ['France', 'Asia', 'Africa', 'Japan', 'India', 'Australia', 'China', 'Egypt', 'Turkish', 'Greece', 'Poland', 'Israel', 'South Africa', 'Lebanon', 'Belgium', 'Nigeria', 'Belgian', 'Kenya', 'Morocco', 'Rwanda', 'Ukraine', 'Bangladesh', 'Zimbabwe', 'Botswana', 'Ghana', 'Sudan', 'Tanzania', 'Soviet Union', 'Angola', 'Mozambique', 'Senegal', 'Somalia', 'Bolivia', 'Holland', 'Burundi', 'Mali', 'Uganda', 'Zambia', 'The Americas', 'Togo', 'Malawi', 'Benin', 'Namibia', 'Guinea'], 47: ['Historical Fiction', 'Adult Fiction', 'Literary Fiction', 'Christian Fiction', 'Speculative Fiction', 'Womens Fiction', 'Books About Books', 'Christian Non Fiction', 'Weird Fiction', 'Lesbian Fiction', 'Banned Books', 'Amish Fiction', 'Gay Fiction', 'Fan Fiction', 'Lds Non Fiction', 'Poetry Plays'], 48: ['Fairy Tales', 'Chapter Books', 'True Story', 'Fairy Tale Retellings', 'Ghost Stories', 'Beauty and The Beast', 'Unicorns', 'Folk Tales', 'Fables', 'Fractured Fairy Tales', 'Mills and Boon', 'Whodunit'], 49: ['Womens', 'Media Tie In', 'Hugo Awards', 'X Men', 'Trivia', 'Did Not Finish']}\n"
     ]
    }
   ],
   "source": [
    "from transformers import BertTokenizer, BertModel\n",
    "from sklearn.cluster import KMeans\n",
    "import torch\n",
    "\n",
    "# Load pretrained BERT model và tokenizer\n",
    "tokenizer = BertTokenizer.from_pretrained('bert-base-uncased')\n",
    "model = BertModel.from_pretrained('bert-base-uncased')\n",
    "\n",
    "# danh sách nhãn\n",
    "labels = genre_counts_df['Genre']\n",
    "\n",
    "# embedding nhãn bằng BERT\n",
    "def get_bert_embeddings(texts):\n",
    "    inputs = tokenizer(texts, padding=True, truncation=True, return_tensors=\"pt\")\n",
    "    with torch.no_grad():\n",
    "        outputs = model(**inputs)\n",
    "    embeddings = outputs.last_hidden_state.mean(dim=1) \n",
    "    return embeddings\n",
    "\n",
    "embeddings = labels.apply(get_bert_embeddings)\n",
    "\n",
    "# Phân cụm bằng KMeans\n",
    "num_clusters = 50  \n",
    "kmeans = KMeans(n_clusters=num_clusters, random_state=0)\n",
    "kmeans.fit(np.vstack(embeddings))\n",
    "\n",
    "clustered_labels = {i: [] for i in range(num_clusters)}\n",
    "for i, label in enumerate(labels):\n",
    "    cluster_idx = kmeans.labels_[i]\n",
    "    clustered_labels[cluster_idx].append(label)\n",
    "\n",
    "print(clustered_labels)"
   ]
  },
  {
   "cell_type": "code",
   "execution_count": 16,
   "metadata": {
    "colab": {
     "base_uri": "https://localhost:8080/"
    },
    "id": "zcjtDIFEzuXH",
    "outputId": "e3988614-a296-4f3d-c1df-00f85490045f"
   },
   "outputs": [
    {
     "name": "stdout",
     "output_type": "stream",
     "text": [
      "    Cluster ID                Representative  \\\n",
      "0            0                     Cyberpunk   \n",
      "1            1                       Romance   \n",
      "2            2             German Literature   \n",
      "3            3                     Dc Comics   \n",
      "4            4                    Historical   \n",
      "5            5                     Childrens   \n",
      "6            6                      American   \n",
      "7            7                 Shapeshifters   \n",
      "8            8                  World War II   \n",
      "9            9                       Fiction   \n",
      "10          10                 Urban Fantasy   \n",
      "11          11                       History   \n",
      "12          12                      Classics   \n",
      "13          13           Young Adult Fantasy   \n",
      "14          14                  Middle Grade   \n",
      "15          15          Personal Development   \n",
      "16          16               Greek Mythology   \n",
      "17          17                      Religion   \n",
      "18          18             Alternate History   \n",
      "19          19                  20th Century   \n",
      "20          20               Read For School   \n",
      "21          21                   Young Adult   \n",
      "22          22          Contemporary Romance   \n",
      "23          23                    Prehistory   \n",
      "24          24             Sword and Sorcery   \n",
      "25          25                       Fantasy   \n",
      "26          26                     Adventure   \n",
      "27          27               Northern Africa   \n",
      "28          28              American History   \n",
      "29          29                       Science   \n",
      "30          30              African American   \n",
      "31          31            British Literature   \n",
      "32          32                   Metaphysics   \n",
      "33          33                         Adult   \n",
      "34          34               Royal Air Force   \n",
      "35          35                   M M Romance   \n",
      "36          36                      Dystopia   \n",
      "37          37                     Star Wars   \n",
      "38          38                     Audiobook   \n",
      "39          39                 Short Stories   \n",
      "40          40  The United States Of America   \n",
      "41          41               Science Fiction   \n",
      "42          42                Graphic Novels   \n",
      "43          43                   Superheroes   \n",
      "44          44                     Steampunk   \n",
      "45          45                  Martial Arts   \n",
      "46          46                        France   \n",
      "47          47            Historical Fiction   \n",
      "48          48                   Fairy Tales   \n",
      "49          49                        Womens   \n",
      "\n",
      "                                                 Tags  \n",
      "0   [Cyberpunk, Atheism, Romanticism, Esoterica, F...  \n",
      "1   [Romance, Contemporary, Nonfiction, Thriller, ...  \n",
      "2   [German Literature, French Literature, Spanish...  \n",
      "3   [Dc Comics, Batman, Superman, Spider Man, Vict...  \n",
      "4   [Historical, Anthologies, Collections, America...  \n",
      "5   [Childrens, Chick Lit, Gay, Storytime, Menage,...  \n",
      "6   [American, Canada, Russia, Italy, Germany, Sco...  \n",
      "7   [Shapeshifters, Harlequin, Cthulhu Mythos, Har...  \n",
      "8   [World War II, Civil War, World War I, America...  \n",
      "9   [Fiction, Novels, Literature, Biography, Memoi...  \n",
      "10  [Urban Fantasy, Mystery Thriller, Paranormal R...  \n",
      "11  [History, Philosophy, Drama, Politics, Psychol...  \n",
      "12  [Classics, Crime, Comics, School, Spirituality...  \n",
      "13  [Young Adult Fantasy, Young Adult Contemporary...  \n",
      "14  [Middle Grade, Christian, High Fantasy, Self H...  \n",
      "15  [Personal Development, BDSM, Mental Health, Me...  \n",
      "16  [Greek Mythology, Native Americans, American R...  \n",
      "17  [Religion, Christianity, Islam, Christian Livi...  \n",
      "18  [Alternate History, Popular Science, Comix, Vi...  \n",
      "19  [20th Century, 19th Century, 18th Century, 17t...  \n",
      "20  [Read For School, Bande Dessine, Slice Of Life...  \n",
      "21  [Young Adult, New Adult, Coming Of Age, Young ...  \n",
      "22  [Contemporary Romance, Historical Romance, Chr...  \n",
      "23  [Prehistory, Microhistory, Palaeontology, Cryp...  \n",
      "24  [Sword and Sorcery, Wicca, Climate Change, Ast...  \n",
      "25  [Fantasy, Mystery, Magic, Humor, Horror, Famil...  \n",
      "26  [Adventure, Paranormal, Suspense, Supernatural...  \n",
      "27  [Northern Africa, Western Africa, Eastern Afri...  \n",
      "28  [American History, Military History, European ...  \n",
      "29  [Science, Theology, Nature, Health, Relationsh...  \n",
      "30  [African American, Latin American, Latin Ameri...  \n",
      "31  [British Literature, Erotica, Essays, New Age,...  \n",
      "32  [Metaphysics, Literary Criticism, Psychoanalys...  \n",
      "33  [Adult, Vampires, Juvenile, Animals, Werewolve...  \n",
      "34              [Royal Air Force, London Underground]  \n",
      "35  [M M Romance, M F Romance, M M F, M F M, M M C...  \n",
      "36                                         [Dystopia]  \n",
      "37  [Star Wars, Doctor Who, Star Trek, Buffy The V...  \n",
      "38  [Audiobook, Book Club, Retellings, Cookbooks, ...  \n",
      "39            [Short Stories, Short Story Collection]  \n",
      "40  [The United States Of America, Republic Of The...  \n",
      "41  [Science Fiction, Science Fiction Fantasy, Sci...  \n",
      "42  [Graphic Novels, Biography Memoir, Graphic Nov...  \n",
      "43  [Superheroes, Pop Culture, Amish, Mysticism, C...  \n",
      "44  [Steampunk, Dungeons and Dragons, Role Playing...  \n",
      "45                 [Martial Arts, Mixed Martial Arts]  \n",
      "46  [France, Asia, Africa, Japan, India, Australia...  \n",
      "47  [Historical Fiction, Adult Fiction, Literary F...  \n",
      "48  [Fairy Tales, Chapter Books, True Story, Fairy...  \n",
      "49  [Womens, Media Tie In, Hugo Awards, X Men, Tri...  \n"
     ]
    }
   ],
   "source": [
    "cluster_representatives = {}\n",
    "for cluster_id, tags_in_cluster in clustered_labels.items():\n",
    "    # Nhãn đại diện: chọn nhãn phổ biến nhất hoặc kết hợp nhãn\n",
    "    # Ở đây chọn nhãn đầu tiên trong cụm làm đại diện\n",
    "    cluster_representatives[cluster_id] = tags_in_cluster[0]\n",
    "\n",
    "# Tạo DataFrame hiển thị nhãn đại diện và các nhãn trong từng cụm\n",
    "representative_df = pd.DataFrame([\n",
    "    {\"Cluster ID\": cluster_id, \"Representative\": representative, \"Tags\": tags_in_cluster}\n",
    "    for cluster_id, (representative, tags_in_cluster) in enumerate(zip(cluster_representatives.values(), clustered_labels.values()))\n",
    "])\n",
    "\n",
    "print(representative_df)"
   ]
  },
  {
   "cell_type": "code",
   "execution_count": 17,
   "metadata": {
    "colab": {
     "base_uri": "https://localhost:8080/"
    },
    "id": "alu6aZXF53uI",
    "outputId": "67203436-ac63-4774-aba7-eaa350bc8660"
   },
   "outputs": [
    {
     "name": "stdout",
     "output_type": "stream",
     "text": [
      "                                              genres  \\\n",
      "0  [Young Adult, Fiction, Dystopia, Fantasy, Scie...   \n",
      "1  [Fantasy, Young Adult, Fiction, Magic, Childre...   \n",
      "2  [Classics, Fiction, Historical Fiction, School...   \n",
      "3  [Classics, Fiction, Romance, Historical Fictio...   \n",
      "4  [Young Adult, Fantasy, Romance, Vampires, Fict...   \n",
      "\n",
      "                                       mapped_genres  \n",
      "0  [Young Adult, Fiction, Dystopia, Fantasy, Scie...  \n",
      "1  [Fantasy, Young Adult, Fiction, Fantasy, Child...  \n",
      "2  [Classics, Fiction, Historical Fiction, Classi...  \n",
      "3  [Classics, Fiction, Romance, Historical Fictio...  \n",
      "4  [Young Adult, Fantasy, Romance, Adult, Fiction...  \n"
     ]
    }
   ],
   "source": [
    "import pandas as pd\n",
    "\n",
    "# tạo từ điển ánh xạ nhãn đến nhãn đại diện\n",
    "genre_to_rep = {}\n",
    "for idx, row in representative_df.iterrows():\n",
    "    for genre in row['Tags']:\n",
    "        genre_to_rep[genre] = row['Representative']\n",
    "\n",
    "def map_to_representative_category(genre_list):\n",
    "    return [genre_to_rep.get(genre, genre) for genre in genre_list]  # Default to genre if not found in the mapping\n",
    "\n",
    "df['mapped_genres'] = df['genres'].apply(map_to_representative_category)\n",
    "print(df[['genres', 'mapped_genres']].head())\n",
    "\n"
   ]
  },
  {
   "cell_type": "code",
   "execution_count": 18,
   "metadata": {
    "colab": {
     "base_uri": "https://localhost:8080/"
    },
    "id": "r01i6ble7rhh",
    "outputId": "e393033b-0107-4206-e842-3dfc1aba2096"
   },
   "outputs": [
    {
     "name": "stdout",
     "output_type": "stream",
     "text": [
      "                                              genres  \\\n",
      "0  [Young Adult, Fiction, Dystopia, Fantasy, Scie...   \n",
      "1  [Fantasy, Young Adult, Fiction, Magic, Childre...   \n",
      "2  [Classics, Fiction, Historical Fiction, School...   \n",
      "3  [Classics, Fiction, Romance, Historical Fictio...   \n",
      "4  [Young Adult, Fantasy, Romance, Vampires, Fict...   \n",
      "\n",
      "                                       mapped_genres  \n",
      "0  [Fiction, Young Adult, Science Fiction, Advent...  \n",
      "1  [Fiction, Young Adult, Adventure, Science Fict...  \n",
      "2  [Fiction, Young Adult, Historical Fiction, Rea...  \n",
      "3  [Fiction, Contemporary Romance, Historical Fic...  \n",
      "4  [Fiction, Young Adult, Adventure, Adult, Urban...  \n"
     ]
    }
   ],
   "source": [
    "# Xóa các thẻ trùng lặp trong từng hàng của cột 'mapped_genres'\n",
    "df['mapped_genres'] = df['mapped_genres'].apply(lambda x: list(set(x)))\n",
    "print(df[['genres', 'mapped_genres']].head())\n"
   ]
  },
  {
   "cell_type": "code",
   "execution_count": 19,
   "metadata": {
    "id": "itYCTvb06V2x"
   },
   "outputs": [],
   "source": [
    "df.to_csv('check2.csv',index = False)"
   ]
  },
  {
   "cell_type": "code",
   "execution_count": 23,
   "metadata": {},
   "outputs": [],
   "source": [
    "from sklearn.model_selection import train_test_split\n",
    "\n",
    "df = df.drop(columns=[\"embedding\"])\n",
    "train, test = train_test_split(df, test_size=0.2, random_state=42)"
   ]
  },
  {
   "cell_type": "code",
   "execution_count": 24,
   "metadata": {},
   "outputs": [],
   "source": [
    "train.to_csv(\"train.csv\", index=False)\n",
    "test.to_csv(\"test.csv\", index=False)"
   ]
  },
  {
   "cell_type": "code",
   "execution_count": 20,
   "metadata": {
    "id": "zJORfKYcwOlR"
   },
   "outputs": [],
   "source": [
    "# mlb = MultiLabelBinarizer()\n",
    "# y = mlb.fit_transform(df['mapped_genres'])"
   ]
  },
  {
   "cell_type": "code",
   "execution_count": null,
   "metadata": {
    "id": "4zcGjkFO9g0o"
   },
   "outputs": [
    {
     "ename": "NameError",
     "evalue": "name 'y' is not defined",
     "output_type": "error",
     "traceback": [
      "\u001b[1;31m---------------------------------------------------------------------------\u001b[0m",
      "\u001b[1;31mNameError\u001b[0m                                 Traceback (most recent call last)",
      "Cell \u001b[1;32mIn[21], line 1\u001b[0m\n\u001b[1;32m----> 1\u001b[0m X_train, X_test, y_train, y_test \u001b[38;5;241m=\u001b[39m train_test_split(df[\u001b[38;5;124m'\u001b[39m\u001b[38;5;124membedding\u001b[39m\u001b[38;5;124m'\u001b[39m], \u001b[43my\u001b[49m, test_size\u001b[38;5;241m=\u001b[39m\u001b[38;5;241m0.2\u001b[39m, random_state\u001b[38;5;241m=\u001b[39m\u001b[38;5;241m42\u001b[39m)\n",
      "\u001b[1;31mNameError\u001b[0m: name 'y' is not defined"
     ]
    }
   ],
   "source": [
    "# X_train, X_test, y_train, y_test = train_test_split(df['embedding'], y, test_size=0.2, random_state=42)"
   ]
  },
  {
   "cell_type": "code",
   "execution_count": null,
   "metadata": {
    "colab": {
     "base_uri": "https://localhost:8080/"
    },
    "id": "FFzoatMR_deZ",
    "outputId": "2796d93a-15ad-4389-88c8-5ed1e3361391"
   },
   "outputs": [
    {
     "name": "stdout",
     "output_type": "stream",
     "text": [
      "Train and test sets have been saved.\n"
     ]
    }
   ],
   "source": [
    "# import pickle\n",
    "# # Lưu train và test set\n",
    "# with open('X_train.pkl', 'wb') as f:\n",
    "#     pickle.dump(X_train, f)\n",
    "\n",
    "# with open('X_test.pkl', 'wb') as f:\n",
    "#     pickle.dump(X_test, f)\n",
    "\n",
    "# with open('y_train.pkl', 'wb') as f:\n",
    "#     pickle.dump(y_train, f)\n",
    "\n",
    "# with open('y_test.pkl', 'wb') as f:\n",
    "#     pickle.dump(y_test, f)\n",
    "\n",
    "# print(\"Train and test sets have been saved.\")\n"
   ]
  }
 ],
 "metadata": {
  "accelerator": "GPU",
  "colab": {
   "gpuType": "T4",
   "provenance": []
  },
  "kernelspec": {
   "display_name": "base",
   "language": "python",
   "name": "python3"
  },
  "language_info": {
   "codemirror_mode": {
    "name": "ipython",
    "version": 3
   },
   "file_extension": ".py",
   "mimetype": "text/x-python",
   "name": "python",
   "nbconvert_exporter": "python",
   "pygments_lexer": "ipython3",
   "version": "3.10.9"
  }
 },
 "nbformat": 4,
 "nbformat_minor": 0
}

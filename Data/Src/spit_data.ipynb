{
  "nbformat": 4,
  "nbformat_minor": 0,
  "metadata": {
    "colab": {
      "provenance": []
    },
    "kernelspec": {
      "name": "python3",
      "display_name": "Python 3"
    },
    "language_info": {
      "name": "python"
    }
  },
  "cells": [
    {
      "cell_type": "code",
      "execution_count": 1,
      "metadata": {
        "colab": {
          "base_uri": "https://localhost:8080/"
        },
        "id": "SOnNuU0cEHeW",
        "outputId": "8ef41b77-99cc-4532-a046-76ff4c493df9"
      },
      "outputs": [
        {
          "output_type": "stream",
          "name": "stdout",
          "text": [
            "Mounted at /content/drive\n"
          ]
        }
      ],
      "source": [
        "from google.colab import drive\n",
        "drive.mount('/content/drive')"
      ]
    },
    {
      "cell_type": "code",
      "source": [
        "import pandas as pd\n",
        "\n",
        "file_path = '/content/drive/MyDrive/final_data.csv'\n",
        "data = pd.read_csv(file_path)"
      ],
      "metadata": {
        "id": "IAureFCtERCP"
      },
      "execution_count": 2,
      "outputs": []
    },
    {
      "cell_type": "code",
      "source": [
        "print(data['genres'].head(10))"
      ],
      "metadata": {
        "colab": {
          "base_uri": "https://localhost:8080/"
        },
        "id": "36KwufLaEUvx",
        "outputId": "69cb1347-60e5-4d95-e102-fd4a34bdd71b"
      },
      "execution_count": 3,
      "outputs": [
        {
          "output_type": "stream",
          "name": "stdout",
          "text": [
            "0    ['Young Adult', 'Fiction', 'Dystopia', 'Fantas...\n",
            "1    ['Fantasy', 'Young Adult', 'Fiction', 'Magic',...\n",
            "2    ['Classics', 'Fiction', 'Historical Fiction', ...\n",
            "3    ['Classics', 'Fiction', 'Romance', 'Historical...\n",
            "4    ['Young Adult', 'Fantasy', 'Romance', 'Vampire...\n",
            "5    ['Historical Fiction', 'Fiction', 'Young Adult...\n",
            "6    ['Classics', 'Fiction', 'Dystopia', 'Fantasy',...\n",
            "7    ['Fantasy', 'Classics', 'Fiction', 'Young Adul...\n",
            "8    ['Fantasy', 'Fiction', 'Classics', 'Adventure'...\n",
            "9    ['Classics', 'Historical Fiction', 'Fiction', ...\n",
            "Name: genres, dtype: object\n"
          ]
        }
      ]
    },
    {
      "cell_type": "code",
      "source": [
        "print(data.shape)"
      ],
      "metadata": {
        "colab": {
          "base_uri": "https://localhost:8080/"
        },
        "id": "X4FZpCVWEV1U",
        "outputId": "dcbbe809-857b-4568-9d14-fdfb7ecf0fd4"
      },
      "execution_count": 4,
      "outputs": [
        {
          "output_type": "stream",
          "name": "stdout",
          "text": [
            "(46977, 4)\n"
          ]
        }
      ]
    },
    {
      "cell_type": "code",
      "source": [
        "all_tags = data['genres'].str.split(',').explode()\n",
        "import re\n",
        "\n",
        "def normalize_tag(tag):\n",
        "    if pd.isnull(tag):\n",
        "        return ''\n",
        "    return re.sub(r'[^\\w\\s]', '', tag).strip().lower()\n",
        "\n",
        "all_tags = all_tags.dropna().apply(normalize_tag)\n",
        "top_tags = all_tags.value_counts().head(5).index\n",
        "\n",
        "def new_tags(genres, top_tags):\n",
        "    if pd.isnull(genres):\n",
        "        return None\n",
        "    tags = genres.split(',')\n",
        "    normalized_tags = [normalize_tag(tag) for tag in tags]\n",
        "    filtered = [tag for tag in normalized_tags if tag in top_tags]\n",
        "    return ','.join(filtered) if filtered else None\n",
        "\n",
        "data['genres'] = data['genres'].apply(lambda x: new_tags(x, top_tags))\n",
        "data = data[data['genres'].notnull()]\n",
        "data.to_csv('/content/drive/MyDrive/fix_news_tag.csv', index=False)"
      ],
      "metadata": {
        "id": "_kib0QxuEYuT"
      },
      "execution_count": 5,
      "outputs": []
    },
    {
      "cell_type": "code",
      "source": [
        "top_tags"
      ],
      "metadata": {
        "colab": {
          "base_uri": "https://localhost:8080/"
        },
        "id": "EG_uESWTITEU",
        "outputId": "8e9574a0-a74a-4ae1-8281-5b09c1078d11"
      },
      "execution_count": 6,
      "outputs": [
        {
          "output_type": "execute_result",
          "data": {
            "text/plain": [
              "Index(['fiction', 'romance', 'fantasy', 'young adult', 'contemporary'], dtype='object', name='genres')"
            ]
          },
          "metadata": {},
          "execution_count": 6
        }
      ]
    },
    {
      "cell_type": "code",
      "source": [
        "print(data['genres'].head(10))"
      ],
      "metadata": {
        "colab": {
          "base_uri": "https://localhost:8080/"
        },
        "id": "k-v_KsbpEgS7",
        "outputId": "f3904b61-c9ed-4c6a-e068-dbdc8088f027"
      },
      "execution_count": 7,
      "outputs": [
        {
          "output_type": "stream",
          "name": "stdout",
          "text": [
            "0    young adult,fiction,fantasy,romance\n",
            "1            fantasy,young adult,fiction\n",
            "2                    fiction,young adult\n",
            "3                        fiction,romance\n",
            "4    young adult,fantasy,romance,fiction\n",
            "5                    fiction,young adult\n",
            "6                        fiction,fantasy\n",
            "7            fantasy,fiction,young adult\n",
            "8            fantasy,fiction,young adult\n",
            "9                        fiction,romance\n",
            "Name: genres, dtype: object\n"
          ]
        }
      ]
    },
    {
      "cell_type": "code",
      "source": [
        "print(data.shape)"
      ],
      "metadata": {
        "colab": {
          "base_uri": "https://localhost:8080/"
        },
        "id": "wsAnMqYdEiZs",
        "outputId": "9e1c281c-906f-4ff1-9405-9dced87dc1f3"
      },
      "execution_count": 8,
      "outputs": [
        {
          "output_type": "stream",
          "name": "stdout",
          "text": [
            "(36657, 4)\n"
          ]
        }
      ]
    },
    {
      "cell_type": "code",
      "source": [
        "print(data.isnull().sum())"
      ],
      "metadata": {
        "colab": {
          "base_uri": "https://localhost:8080/"
        },
        "id": "OkmjyznKElES",
        "outputId": "4c363bf1-6887-4128-f4b8-71135db426f8"
      },
      "execution_count": 9,
      "outputs": [
        {
          "output_type": "stream",
          "name": "stdout",
          "text": [
            "title          110\n",
            "author           2\n",
            "description      0\n",
            "genres           0\n",
            "dtype: int64\n"
          ]
        }
      ]
    },
    {
      "cell_type": "code",
      "source": [
        "data['num_tags'] = data['genres'].apply(lambda x: len(x.split(',')) if pd.notnull(x) else 0)\n",
        "\n",
        "min_tags = data['num_tags'].min()\n",
        "print(min_tags)\n",
        "\n",
        "max_tags = data['num_tags'].max()\n",
        "print(max_tags)"
      ],
      "metadata": {
        "id": "R8i2N-0WEmDg",
        "outputId": "1aaf5406-ab40-424b-b989-04e403579d58",
        "colab": {
          "base_uri": "https://localhost:8080/"
        }
      },
      "execution_count": 10,
      "outputs": [
        {
          "output_type": "stream",
          "name": "stdout",
          "text": [
            "1\n",
            "5\n"
          ]
        }
      ]
    },
    {
      "cell_type": "code",
      "source": [
        "all_tags.value_counts().head(5)"
      ],
      "metadata": {
        "colab": {
          "base_uri": "https://localhost:8080/",
          "height": 272
        },
        "id": "AVfRK8wBMqU0",
        "outputId": "a57ab306-5566-4562-9ade-6d2f24db32df"
      },
      "execution_count": 24,
      "outputs": [
        {
          "output_type": "execute_result",
          "data": {
            "text/plain": [
              "genres\n",
              "fiction         31282\n",
              "romance         15397\n",
              "fantasy         14933\n",
              "young adult     11787\n",
              "contemporary    10477\n",
              "Name: count, dtype: int64"
            ],
            "text/html": [
              "<div>\n",
              "<style scoped>\n",
              "    .dataframe tbody tr th:only-of-type {\n",
              "        vertical-align: middle;\n",
              "    }\n",
              "\n",
              "    .dataframe tbody tr th {\n",
              "        vertical-align: top;\n",
              "    }\n",
              "\n",
              "    .dataframe thead th {\n",
              "        text-align: right;\n",
              "    }\n",
              "</style>\n",
              "<table border=\"1\" class=\"dataframe\">\n",
              "  <thead>\n",
              "    <tr style=\"text-align: right;\">\n",
              "      <th></th>\n",
              "      <th>count</th>\n",
              "    </tr>\n",
              "    <tr>\n",
              "      <th>genres</th>\n",
              "      <th></th>\n",
              "    </tr>\n",
              "  </thead>\n",
              "  <tbody>\n",
              "    <tr>\n",
              "      <th>fiction</th>\n",
              "      <td>31282</td>\n",
              "    </tr>\n",
              "    <tr>\n",
              "      <th>romance</th>\n",
              "      <td>15397</td>\n",
              "    </tr>\n",
              "    <tr>\n",
              "      <th>fantasy</th>\n",
              "      <td>14933</td>\n",
              "    </tr>\n",
              "    <tr>\n",
              "      <th>young adult</th>\n",
              "      <td>11787</td>\n",
              "    </tr>\n",
              "    <tr>\n",
              "      <th>contemporary</th>\n",
              "      <td>10477</td>\n",
              "    </tr>\n",
              "  </tbody>\n",
              "</table>\n",
              "</div><br><label><b>dtype:</b> int64</label>"
            ]
          },
          "metadata": {},
          "execution_count": 24
        }
      ]
    },
    {
      "cell_type": "code",
      "source": [
        "data = data.dropna()\n",
        "data = data.drop(columns=['num_tags'])"
      ],
      "metadata": {
        "id": "JDQISdjdtF7Z"
      },
      "execution_count": 20,
      "outputs": []
    },
    {
      "cell_type": "code",
      "source": [
        "nan_counts = data.isnull().sum()\n",
        "total_nan = data.isnull().sum().sum()\n",
        "print(nan_counts)"
      ],
      "metadata": {
        "colab": {
          "base_uri": "https://localhost:8080/"
        },
        "id": "W2YO-0GJt_TA",
        "outputId": "8c2fc3f6-06de-4883-b3fd-9884360a01cc"
      },
      "execution_count": 23,
      "outputs": [
        {
          "output_type": "stream",
          "name": "stdout",
          "text": [
            "title          0\n",
            "author         0\n",
            "description    0\n",
            "genres         0\n",
            "dtype: int64\n"
          ]
        }
      ]
    },
    {
      "cell_type": "code",
      "source": [
        "from sklearn.model_selection import train_test_split"
      ],
      "metadata": {
        "id": "O00Ym77Cunqs"
      },
      "execution_count": 18,
      "outputs": []
    },
    {
      "cell_type": "code",
      "source": [
        "train_df, val_test = train_test_split(data, test_size=0.4, random_state=42)\n",
        "val_df, test_df = train_test_split(val_test, test_size=0.5, random_state=42)\n",
        "\n",
        "train_df.to_csv(\"train.csv\", index=False)\n",
        "val_df.to_csv(\"val.csv\", index=False)\n",
        "test_df.to_csv(\"test.csv\", index=False)"
      ],
      "metadata": {
        "id": "CLBUNJ-juDe0"
      },
      "execution_count": 22,
      "outputs": []
    }
  ]
}
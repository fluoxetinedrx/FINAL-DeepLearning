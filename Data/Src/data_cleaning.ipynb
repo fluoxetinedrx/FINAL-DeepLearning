{
 "cells": [
  {
   "cell_type": "code",
   "execution_count": 23,
   "metadata": {},
   "outputs": [],
   "source": [
    "import pandas as pd\n",
    "import csv\n",
    "import re\n"
   ]
  },
  {
   "cell_type": "markdown",
   "metadata": {},
   "source": [
    "# Làm sạch dữ liệu\n"
   ]
  },
  {
   "cell_type": "code",
   "execution_count": 24,
   "metadata": {},
   "outputs": [
    {
     "data": {
      "text/html": [
       "<div>\n",
       "<style scoped>\n",
       "    .dataframe tbody tr th:only-of-type {\n",
       "        vertical-align: middle;\n",
       "    }\n",
       "\n",
       "    .dataframe tbody tr th {\n",
       "        vertical-align: top;\n",
       "    }\n",
       "\n",
       "    .dataframe thead th {\n",
       "        text-align: right;\n",
       "    }\n",
       "</style>\n",
       "<table border=\"1\" class=\"dataframe\">\n",
       "  <thead>\n",
       "    <tr style=\"text-align: right;\">\n",
       "      <th></th>\n",
       "      <th>title</th>\n",
       "      <th>author</th>\n",
       "      <th>description</th>\n",
       "      <th>genres</th>\n",
       "    </tr>\n",
       "  </thead>\n",
       "  <tbody>\n",
       "    <tr>\n",
       "      <th>0</th>\n",
       "      <td>The Hunger Games</td>\n",
       "      <td>Suzanne Collins</td>\n",
       "      <td>WINNING MEANS FAME AND FORTUNE.LOSING MEANS CE...</td>\n",
       "      <td>['Young Adult', 'Fiction', 'Dystopia', 'Fantas...</td>\n",
       "    </tr>\n",
       "    <tr>\n",
       "      <th>1</th>\n",
       "      <td>Harry Potter and the Order of the Phoenix</td>\n",
       "      <td>J.K. Rowling, Mary GrandPré (Illustrator)</td>\n",
       "      <td>There is a door at the end of a silent corrido...</td>\n",
       "      <td>['Fantasy', 'Young Adult', 'Fiction', 'Magic',...</td>\n",
       "    </tr>\n",
       "    <tr>\n",
       "      <th>2</th>\n",
       "      <td>To Kill a Mockingbird</td>\n",
       "      <td>Harper Lee</td>\n",
       "      <td>The unforgettable novel of a childhood in a sl...</td>\n",
       "      <td>['Classics', 'Fiction', 'Historical Fiction', ...</td>\n",
       "    </tr>\n",
       "    <tr>\n",
       "      <th>3</th>\n",
       "      <td>Pride and Prejudice</td>\n",
       "      <td>Jane Austen, Anna Quindlen (Introduction)</td>\n",
       "      <td>Alternate cover edition of ISBN 9780679783268S...</td>\n",
       "      <td>['Classics', 'Fiction', 'Romance', 'Historical...</td>\n",
       "    </tr>\n",
       "    <tr>\n",
       "      <th>4</th>\n",
       "      <td>Twilight</td>\n",
       "      <td>Stephenie Meyer</td>\n",
       "      <td>About three things I was absolutely positive.\\...</td>\n",
       "      <td>['Young Adult', 'Fantasy', 'Romance', 'Vampire...</td>\n",
       "    </tr>\n",
       "    <tr>\n",
       "      <th>...</th>\n",
       "      <td>...</td>\n",
       "      <td>...</td>\n",
       "      <td>...</td>\n",
       "      <td>...</td>\n",
       "    </tr>\n",
       "    <tr>\n",
       "      <th>52473</th>\n",
       "      <td>Fractured</td>\n",
       "      <td>Cheri Schmidt (Goodreads Author)</td>\n",
       "      <td>The Fateful Trilogy continues with Fractured. ...</td>\n",
       "      <td>['Vampires', 'Paranormal', 'Young Adult', 'Rom...</td>\n",
       "    </tr>\n",
       "    <tr>\n",
       "      <th>52474</th>\n",
       "      <td>Anasazi</td>\n",
       "      <td>Emma Michaels</td>\n",
       "      <td>'Anasazi', sequel to 'The Thirteenth Chime' by...</td>\n",
       "      <td>['Mystery', 'Young Adult']</td>\n",
       "    </tr>\n",
       "    <tr>\n",
       "      <th>52475</th>\n",
       "      <td>Marked</td>\n",
       "      <td>Kim Richardson (Goodreads Author)</td>\n",
       "      <td>--READERS FAVORITE AWARDS WINNER 2011--Sixteen...</td>\n",
       "      <td>['Fantasy', 'Young Adult', 'Paranormal', 'Ange...</td>\n",
       "    </tr>\n",
       "    <tr>\n",
       "      <th>52476</th>\n",
       "      <td>Wayward Son</td>\n",
       "      <td>Tom Pollack (Goodreads Author), John Loftus (G...</td>\n",
       "      <td>A POWERFUL TREMOR UNEARTHS AN ANCIENT SECRETBu...</td>\n",
       "      <td>['Fiction', 'Mystery', 'Historical Fiction', '...</td>\n",
       "    </tr>\n",
       "    <tr>\n",
       "      <th>52477</th>\n",
       "      <td>Daughter of Helaman</td>\n",
       "      <td>Misty Moncur (Goodreads Author)</td>\n",
       "      <td>Fighting in Helaman's army is Keturah's deepes...</td>\n",
       "      <td>['Lds Fiction', 'Historical Fiction', 'Young A...</td>\n",
       "    </tr>\n",
       "  </tbody>\n",
       "</table>\n",
       "<p>52478 rows × 4 columns</p>\n",
       "</div>"
      ],
      "text/plain": [
       "                                           title  \\\n",
       "0                               The Hunger Games   \n",
       "1      Harry Potter and the Order of the Phoenix   \n",
       "2                          To Kill a Mockingbird   \n",
       "3                            Pride and Prejudice   \n",
       "4                                       Twilight   \n",
       "...                                          ...   \n",
       "52473                                  Fractured   \n",
       "52474                                    Anasazi   \n",
       "52475                                     Marked   \n",
       "52476                                Wayward Son   \n",
       "52477                        Daughter of Helaman   \n",
       "\n",
       "                                                  author  \\\n",
       "0                                        Suzanne Collins   \n",
       "1              J.K. Rowling, Mary GrandPré (Illustrator)   \n",
       "2                                             Harper Lee   \n",
       "3              Jane Austen, Anna Quindlen (Introduction)   \n",
       "4                                        Stephenie Meyer   \n",
       "...                                                  ...   \n",
       "52473                   Cheri Schmidt (Goodreads Author)   \n",
       "52474                                      Emma Michaels   \n",
       "52475                  Kim Richardson (Goodreads Author)   \n",
       "52476  Tom Pollack (Goodreads Author), John Loftus (G...   \n",
       "52477                    Misty Moncur (Goodreads Author)   \n",
       "\n",
       "                                             description  \\\n",
       "0      WINNING MEANS FAME AND FORTUNE.LOSING MEANS CE...   \n",
       "1      There is a door at the end of a silent corrido...   \n",
       "2      The unforgettable novel of a childhood in a sl...   \n",
       "3      Alternate cover edition of ISBN 9780679783268S...   \n",
       "4      About three things I was absolutely positive.\\...   \n",
       "...                                                  ...   \n",
       "52473  The Fateful Trilogy continues with Fractured. ...   \n",
       "52474  'Anasazi', sequel to 'The Thirteenth Chime' by...   \n",
       "52475  --READERS FAVORITE AWARDS WINNER 2011--Sixteen...   \n",
       "52476  A POWERFUL TREMOR UNEARTHS AN ANCIENT SECRETBu...   \n",
       "52477  Fighting in Helaman's army is Keturah's deepes...   \n",
       "\n",
       "                                                  genres  \n",
       "0      ['Young Adult', 'Fiction', 'Dystopia', 'Fantas...  \n",
       "1      ['Fantasy', 'Young Adult', 'Fiction', 'Magic',...  \n",
       "2      ['Classics', 'Fiction', 'Historical Fiction', ...  \n",
       "3      ['Classics', 'Fiction', 'Romance', 'Historical...  \n",
       "4      ['Young Adult', 'Fantasy', 'Romance', 'Vampire...  \n",
       "...                                                  ...  \n",
       "52473  ['Vampires', 'Paranormal', 'Young Adult', 'Rom...  \n",
       "52474                         ['Mystery', 'Young Adult']  \n",
       "52475  ['Fantasy', 'Young Adult', 'Paranormal', 'Ange...  \n",
       "52476  ['Fiction', 'Mystery', 'Historical Fiction', '...  \n",
       "52477  ['Lds Fiction', 'Historical Fiction', 'Young A...  \n",
       "\n",
       "[52478 rows x 4 columns]"
      ]
     },
     "execution_count": 24,
     "metadata": {},
     "output_type": "execute_result"
    }
   ],
   "source": [
    "df = pd.read_csv('books_1.Best_Books_Ever.csv')\n",
    "df"
   ]
  },
  {
   "cell_type": "code",
   "execution_count": 25,
   "metadata": {},
   "outputs": [],
   "source": [
    "# Xử lý giá trị bị thiếu\n",
    "df['title'] = df['title'].apply(lambda x: '' if pd.isnull(x) or x.strip() == '' else x)\n",
    "df['title'] = df['title'].astype(str)\n",
    "df['author'] = df['author'].apply(lambda x: '' if pd.isnull(x) or x.strip() == '' else x)\n",
    "df['author'] = df['author'].astype(str)\n",
    "df['description'] = df['description'].fillna('')  # Để trống mô tả nếu bị thiếu"
   ]
  },
  {
   "cell_type": "code",
   "execution_count": 26,
   "metadata": {},
   "outputs": [
    {
     "name": "stdout",
     "output_type": "stream",
     "text": [
      "Số lượng các hàng có genres là chuỗi rỗng hoặc \"[]\": 4623\n"
     ]
    }
   ],
   "source": [
    "# Kiểm tra các giá trị trong cột genres có phải là chuỗi rỗng hoặc '[]'\n",
    "empty_genres_count = df['genres'].apply(lambda x: x == '[]' or x == '').sum()\n",
    "print(f'Số lượng các hàng có genres là chuỗi rỗng hoặc \"[]\": {empty_genres_count}')\n"
   ]
  },
  {
   "cell_type": "code",
   "execution_count": 27,
   "metadata": {},
   "outputs": [
    {
     "name": "stdout",
     "output_type": "stream",
     "text": [
      "Số lượng hàng có cột 'description' rỗng: 1338\n"
     ]
    }
   ],
   "source": [
    "# Đếm số lượng hàng có cột 'description' rỗng (NaN hoặc chuỗi rỗng)\n",
    "empty_count = df['description'].isna().sum() + (df['description'] == '').sum()\n",
    "print(f\"Số lượng hàng có cột 'description' rỗng: {empty_count}\")\n"
   ]
  },
  {
   "cell_type": "code",
   "execution_count": 28,
   "metadata": {},
   "outputs": [
    {
     "name": "stderr",
     "output_type": "stream",
     "text": [
      "C:\\Users\\Admin\\AppData\\Local\\Temp\\ipykernel_12624\\3849388896.py:9: FutureWarning: DataFrame.applymap has been deprecated. Use DataFrame.map instead.\n",
      "  df = df.applymap(remove_non_printable)\n"
     ]
    }
   ],
   "source": [
    "# Hàm để loại bỏ ký tự không định dạng được\n",
    "def remove_non_printable(text):\n",
    "    if isinstance(text, str):  # Kiểm tra nếu là chuỗi\n",
    "        # Loại bỏ ký tự không in được (ASCII từ 0 đến 31)\n",
    "        return re.sub(r'[^\\x20-\\x7E]', '', text)\n",
    "    return text  # Giữ nguyên nếu không phải chuỗi\n",
    "\n",
    "# Áp dụng cho toàn bộ DataFrame\n",
    "df = df.applymap(remove_non_printable)\n"
   ]
  },
  {
   "cell_type": "code",
   "execution_count": 29,
   "metadata": {},
   "outputs": [],
   "source": [
    "# Loại bỏ các hàng có 'description' rỗng\n",
    "df = df[df['description'].str.strip() != '']\n",
    "# Loại bỏ các hàng có 'genres' là danh sách rỗng hoặc NaN\n",
    "df = df[df['genres'].apply(lambda x: len(x) > 2)]"
   ]
  },
  {
   "cell_type": "code",
   "execution_count": 30,
   "metadata": {},
   "outputs": [],
   "source": [
    "# lưu data đã làm sạch vào một file csv\n",
    "df.to_csv('final_data.csv',index = False)"
   ]
  }
 ],
 "metadata": {
  "kernelspec": {
   "display_name": "Python 3",
   "language": "python",
   "name": "python3"
  },
  "language_info": {
   "codemirror_mode": {
    "name": "ipython",
    "version": 3
   },
   "file_extension": ".py",
   "mimetype": "text/x-python",
   "name": "python",
   "nbconvert_exporter": "python",
   "pygments_lexer": "ipython3",
   "version": "3.11.5"
  }
 },
 "nbformat": 4,
 "nbformat_minor": 2
}
